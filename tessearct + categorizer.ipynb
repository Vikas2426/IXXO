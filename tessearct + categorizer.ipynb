{
 "cells": [
  {
   "cell_type": "code",
   "execution_count": 60,
   "metadata": {},
   "outputs": [],
   "source": [
    "#import tesseract for OCR and PILLOW to parse screenshots\n",
    "from pytesseract import image_to_string\n",
    "from PIL import Image\n",
    "import pytesseract\n",
    "from os import mkdir\n",
    "import os\n",
    "import pandas as pd"
   ]
  },
  {
   "cell_type": "code",
   "execution_count": 61,
   "metadata": {},
   "outputs": [],
   "source": [
    "#Load categorizer and transformer from respective pickle files\n",
    "from os import listdir\n",
    "import sys\n",
    "import pandas as pd\n",
    "from sklearn.externals import joblib \n",
    "cat = joblib.load('categorizer.pkl')  \n",
    "tran = joblib.load('transformer.pkl')"
   ]
  },
  {
   "cell_type": "code",
   "execution_count": 62,
   "metadata": {},
   "outputs": [],
   "source": [
    "#path to the main directory of screenshots\n",
    "mypath = \"F:/screenshots/AMIT\""
   ]
  },
  {
   "cell_type": "code",
   "execution_count": 63,
   "metadata": {},
   "outputs": [],
   "source": [
    "def categorizer(text_data):\n",
    "    \n",
    "    text = text_data.iloc[:,1]\n",
    "    \n",
    "    text_dtm = tran.transform(text.astype(str)) #transform to learned vocabulary\n",
    "    \n",
    "    predictions = (cat.predict(text_dtm)) #predict the categories\n",
    "    text_data[\"predictions\"] = predictions #add the predictions to the data frame\n",
    "    call_corrector(text_data) #send the data frame to correction module"
   ]
  },
  {
   "cell_type": "code",
   "execution_count": 64,
   "metadata": {},
   "outputs": [],
   "source": [
    "def call_corrector(dataframe):\n",
    "    for index, row in dataframe.iterrows():\n",
    "        if row[\"predictions\"] == b\"chat\":\n",
    "            correct_chat(row['path'])\n",
    "        elif row['predictions'] == b'code':\n",
    "            correct_code(row['path'])\n",
    "        elif row['predictions'] == b'web':\n",
    "            correct_web(row['path'])\n",
    "        elif row['predictions'] == b'mail':\n",
    "            correct_mail(row['path'])\n",
    "        elif row['predictions'] == b'script':\n",
    "            correct_script(row['path'])\n",
    "        elif row['predictions'] == b'office':\n",
    "            correct_office(row['path'])\n",
    "        elif row['predictions'] == b'cloud':\n",
    "            correct_cloud(row['path'])\n",
    "        \n",
    "        #os.remove(row['path'])"
   ]
  },
  {
   "cell_type": "code",
   "execution_count": 65,
   "metadata": {},
   "outputs": [],
   "source": [
    "def correct_chat(text):\n",
    "    print(text+\"in chat\")\n",
    "\n",
    "def correct_web(text):\n",
    "    print(text+\" in web\")\n",
    "\n",
    "def correct_mail(text):\n",
    "    print(text+\" in mail\")\n",
    "\n",
    "def correct_script(text):\n",
    "    print(text+\" in script\")\n",
    "\n",
    "def correct_office(text):\n",
    "    print(text+\" in office\")\n",
    "\n",
    "def correct_cloud(text):\n",
    "    print(text+\" in cloud\")\n",
    "\n",
    "def correct_code(text):\n",
    "    print(text+\" in code\")"
   ]
  },
  {
   "cell_type": "code",
   "execution_count": 66,
   "metadata": {},
   "outputs": [],
   "source": [
    "def make_dir(path):\n",
    "    mkdir(path)"
   ]
  },
  {
   "cell_type": "code",
   "execution_count": 67,
   "metadata": {},
   "outputs": [],
   "source": [
    "def get_employee():\n",
    "    employees_input=[] #list of input employee folders\n",
    "    employees_output = [] #list of output employee folders\n",
    "    \n",
    "    for name in listdir(mypath):\n",
    "        output_path = \"F:/Output/\"+name\n",
    "        employees_output.append(output_path)\n",
    "        if not os.path.exists(output_path):#if folder doesn't exists\n",
    "                    make_dir(output_path)\n",
    "        employees_input.append(mypath+\"/\"+name)\n",
    "        \n",
    "    date_folders(employees_input, employees_output)\n",
    " \n"
   ]
  },
  {
   "cell_type": "code",
   "execution_count": 68,
   "metadata": {},
   "outputs": [],
   "source": [
    "\n",
    "def date_folders(employees_input, employees_output):\n",
    "        \n",
    "    dates_input = [] #list of input employee->date folder\n",
    "    dates_output = [] #list of output employee->date folder\n",
    "    \n",
    "    #get date folder names inside every employee's folder\n",
    "    for a, b in zip(employees_input, employees_output):\n",
    "        for date in listdir(a):\n",
    "            output_path = b+\"/\"+date\n",
    "            dates_output.append(output_path)\n",
    "            if not os.path.exists(output_path): #if folder doesn't exists\n",
    "                    make_dir(output_path)\n",
    "            dates_input.append(a+\"/\"+date)\n",
    "            \n",
    "    screenshots_to_text(dates_input, dates_output)\n"
   ]
  },
  {
   "cell_type": "code",
   "execution_count": 69,
   "metadata": {},
   "outputs": [],
   "source": [
    "pytesseract.pytesseract.tesseract_cmd = 'C:\\\\Program Files (x86)\\\\Tesseract-OCR\\\\tesseract.exe'\n",
    "def screenshots_to_text(dates_input, date_output):\n",
    "    size = 7016, 4961 #size for 300 dpi image\n",
    "    \n",
    "    screenshots = [] #list of input employee->date->screenshots\n",
    "    screenshot_output_names = [] #list of input employee->date->screenshot names\n",
    "    \n",
    "    for a, b  in zip(dates_input, date_output):\n",
    "        for screenshot in listdir(a):\n",
    "            screenshot_output_names.append(b+\"/\"+screenshot)\n",
    "            screenshots.append(a+\"/\"+screenshot)\n",
    "            \n",
    "        path = []\n",
    "        text = []\n",
    "        #implement pytesseract's OCR here\n",
    "        for image, image_name in zip(screenshots, screenshot_output_names):\n",
    "            print(f\"image = {image}\") \n",
    "            print(f\"image_name = {image_name}\")\n",
    "            if not os.path.exists(image_name+\".txt\"): #if file doesn't exist\n",
    "                im = Image.open(image)\n",
    "                im = im.resize(size, Image.ANTIALIAS) #resize image to 300dpi for better results\n",
    "                \n",
    "          #create a list (path) for image_name beacuse it contains the path to those OCR outputs\n",
    "                file_path = image_name+\".txt\"\n",
    "                path.append(file_path) \n",
    "               \n",
    "                #open a txt file for OCR results \n",
    "                f = open(file_path,\"w+\")  \n",
    "                \n",
    "                #create a list(text) for image_to_string outputs\n",
    "                output = image_to_string(im, lang=\"eng+fra\")\n",
    "                text.append(output)\n",
    "                            \n",
    "        #add the OCR results to the screenshot.txt\n",
    "                f.write(output)\n",
    "            \n",
    "            \n",
    "        #close the output file\n",
    "                f.close()\n",
    "                im.close()\n",
    "        if len(path) > 0:\n",
    "            data = {\"path\": path, \"text\":text}  #create a dictionary with path and text lists\n",
    "            text_data = pd.DataFrame(data)      #create a pandas dataframe with the above dictionary\n",
    "            categorizer(text_data)              #pass this dataframe to categorizer\n",
    "           \n",
    "           "
   ]
  },
  {
   "cell_type": "code",
   "execution_count": 70,
   "metadata": {},
   "outputs": [],
   "source": [
    "#get_employee()"
   ]
  },
  {
   "cell_type": "code",
   "execution_count": null,
   "metadata": {},
   "outputs": [],
   "source": [
    "employees_input = [\"F:/screenshots/DILIP\"]\n",
    "employees_output = [\"F:/Output/DILIP\"]\n",
    "date_folders(employees_input, employees_output)"
   ]
  },
  {
   "cell_type": "code",
   "execution_count": null,
   "metadata": {},
   "outputs": [],
   "source": []
  }
 ],
 "metadata": {
  "kernelspec": {
   "display_name": "Python 3",
   "language": "python",
   "name": "python3"
  },
  "language_info": {
   "codemirror_mode": {
    "name": "ipython",
    "version": 3
   },
   "file_extension": ".py",
   "mimetype": "text/x-python",
   "name": "python",
   "nbconvert_exporter": "python",
   "pygments_lexer": "ipython3",
   "version": "3.7.1"
  }
 },
 "nbformat": 4,
 "nbformat_minor": 2
}
